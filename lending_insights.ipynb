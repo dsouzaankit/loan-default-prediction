{
 "cells": [
  {
   "cell_type": "code",
   "execution_count": 1,
   "metadata": {},
   "outputs": [],
   "source": [
    "import numpy as np\n",
    "import pandas as pd\n",
    "from sklearn.feature_selection import RFECV\n",
    "from sklearn.linear_model import LogisticRegression\n",
    "from sklearn.model_selection import train_test_split\n",
    "from sklearn.metrics import fbeta_score, make_scorer\n",
    "from statsmodels.stats.outliers_influence import variance_inflation_factor\n",
    "from matplotlib import pyplot as plt\n",
    "%matplotlib inline"
   ]
  },
  {
   "cell_type": "code",
   "execution_count": 56,
   "metadata": {},
   "outputs": [],
   "source": [
    "df=pd.read_csv('New_Loan_Approved_Customers.csv')"
   ]
  },
  {
   "cell_type": "code",
   "execution_count": 57,
   "metadata": {},
   "outputs": [
    {
     "data": {
      "text/plain": [
       "Index(['Loan Amount', 'Interest Rate - Charged as Flat Rate (Doesn't Accrue)',\n",
       "       'Loan Tenure', 'Disbursement Date', 'Due Date', 'Repayment Amount',\n",
       "       'Repayment Date', 'loan.loan_application_id',\n",
       "       'Application Number (# of Times applied for 1st loan)', 'Employment',\n",
       "       'Highest Education', 'Daily Income', 'Is Employed',\n",
       "       'Has Other Loan Outstanding', 'Annual Income', 'Loan Purpose',\n",
       "       'Loan Use Category', 'Acquisition Channel', 'Age', 'Gender',\n",
       "       'Length of Phone Ownership', 'Phone is New', 'Customer Owns Phone',\n",
       "       'Credit Score', 'National ID Issue Date', 'Device Type'],\n",
       "      dtype='object')"
      ]
     },
     "execution_count": 57,
     "metadata": {},
     "output_type": "execute_result"
    }
   ],
   "source": [
    "df.columns"
   ]
  },
  {
   "cell_type": "code",
   "execution_count": 58,
   "metadata": {},
   "outputs": [],
   "source": [
    "df=df.rename(columns={'Application Number (# of Times applied for 1st loan)':'Times Applied',\n",
    "                   'Loan Use Details (Free Form)':'Loan Usage',\n",
    "                   'Has Other Loan Outstanding':'Outstanding',\n",
    "                   'Length of Phone Ownership':'Phone Ownership',\n",
    "                   'Phone is New':'New Phone'                       \n",
    "                  })"
   ]
  },
  {
   "cell_type": "code",
   "execution_count": 59,
   "metadata": {},
   "outputs": [
    {
     "name": "stdout",
     "output_type": "stream",
     "text": [
      "<class 'pandas.core.frame.DataFrame'>\n",
      "RangeIndex: 66786 entries, 0 to 66785\n",
      "Data columns (total 26 columns):\n",
      "Loan Amount                                              66786 non-null int64\n",
      "Interest Rate - Charged as Flat Rate (Doesn't Accrue)    66786 non-null int64\n",
      "Loan Tenure                                              66786 non-null int64\n",
      "Disbursement Date                                        66786 non-null object\n",
      "Due Date                                                 66786 non-null object\n",
      "Repayment Amount                                         56767 non-null float64\n",
      "Repayment Date                                           56767 non-null object\n",
      "loan.loan_application_id                                 66786 non-null int64\n",
      "Times Applied                                            66786 non-null int64\n",
      "Employment                                               66785 non-null object\n",
      "Highest Education                                        66767 non-null object\n",
      "Daily Income                                             66786 non-null object\n",
      "Is Employed                                              66786 non-null object\n",
      "Outstanding                                              66786 non-null object\n",
      "Annual Income                                            66786 non-null float64\n",
      "Loan Purpose                                             66786 non-null object\n",
      "Loan Use Category                                        66785 non-null object\n",
      "Acquisition Channel                                      66786 non-null object\n",
      "Age                                                      66786 non-null int64\n",
      "Gender                                                   62150 non-null object\n",
      "Phone Ownership                                          65819 non-null object\n",
      "New Phone                                                65819 non-null object\n",
      "Customer Owns Phone                                      66786 non-null object\n",
      "Credit Score                                             66786 non-null float64\n",
      "National ID Issue Date                                   66786 non-null object\n",
      "Device Type                                              66786 non-null object\n",
      "dtypes: float64(3), int64(6), object(17)\n",
      "memory usage: 8.9+ MB\n"
     ]
    }
   ],
   "source": [
    "df.info()"
   ]
  },
  {
   "cell_type": "markdown",
   "metadata": {},
   "source": [
    "Missing repayment amount and date indicates loan defaulters\n",
    "\n",
    "Phone Ownership and New Phone have missing values (~1.5%)\n",
    "\n",
    "Loan Use Category has missing values"
   ]
  },
  {
   "cell_type": "code",
   "execution_count": 60,
   "metadata": {},
   "outputs": [],
   "source": [
    "df['Defaulter']=0\n",
    "df.loc[(df['Repayment Amount'].isnull()) | (df['Repayment Amount'] < df['Loan Amount']*(1 + df['Interest Rate - Charged as Flat Rate (Doesn\\'t Accrue)'] / 100)), 'Defaulter']=1"
   ]
  },
  {
   "cell_type": "code",
   "execution_count": 61,
   "metadata": {},
   "outputs": [
    {
     "data": {
      "text/plain": [
       "16.849339681969276"
      ]
     },
     "execution_count": 61,
     "metadata": {},
     "output_type": "execute_result"
    }
   ],
   "source": [
    "df['Defaulter'].sum()/df.shape[0]*100"
   ]
  },
  {
   "cell_type": "code",
   "execution_count": 62,
   "metadata": {},
   "outputs": [
    {
     "data": {
      "text/plain": [
       "grow_business         44.873849\n",
       "education             14.081006\n",
       "other                 11.168676\n",
       "start_business         8.322228\n",
       "emergency              7.911956\n",
       "medical                6.088193\n",
       "other_business_use     2.898855\n",
       "travel                 2.573931\n",
       "travel_business        1.167927\n",
       "ocassion               0.913379\n",
       "Name: Loan Use Category, dtype: float64"
      ]
     },
     "execution_count": 62,
     "metadata": {},
     "output_type": "execute_result"
    }
   ],
   "source": [
    "df['Loan Use Category'].value_counts(normalize=True)*100"
   ]
  },
  {
   "cell_type": "code",
   "execution_count": 63,
   "metadata": {},
   "outputs": [
    {
     "data": {
      "text/plain": [
       "3y        27.072730\n",
       "1y        19.413847\n",
       "3m        16.012094\n",
       "6m        13.404944\n",
       "over3y    12.239627\n",
       "1m        11.856759\n",
       "Name: Phone Ownership, dtype: float64"
      ]
     },
     "execution_count": 63,
     "metadata": {},
     "output_type": "execute_result"
    }
   ],
   "source": [
    "df['Phone Ownership'].value_counts(normalize=True)*100"
   ]
  },
  {
   "cell_type": "code",
   "execution_count": 64,
   "metadata": {},
   "outputs": [
    {
     "data": {
      "text/plain": [
       "Yes    80.640848\n",
       "No     19.359152\n",
       "Name: New Phone, dtype: float64"
      ]
     },
     "execution_count": 64,
     "metadata": {},
     "output_type": "execute_result"
    }
   ],
   "source": [
    "df['New Phone'].value_counts(normalize=True)*100"
   ]
  },
  {
   "cell_type": "code",
   "execution_count": 65,
   "metadata": {},
   "outputs": [
    {
     "name": "stdout",
     "output_type": "stream",
     "text": [
      "(66786, 27)\n",
      "(65799, 27)\n"
     ]
    }
   ],
   "source": [
    "#delete rows with missing values\n",
    "print(df.shape)\n",
    "df=df[df['Employment'].notnull()]\n",
    "df=df[df['Highest Education'].notnull()]\n",
    "df=df[df['Loan Use Category'].notnull()]\n",
    "df=df[df['Phone Ownership'].notnull()]\n",
    "df=df[df['New Phone'].notnull()]\n",
    "print(df.shape)\n",
    "#1.5% data loss is not significant"
   ]
  },
  {
   "cell_type": "code",
   "execution_count": 66,
   "metadata": {},
   "outputs": [
    {
     "data": {
      "text/plain": [
       "InfinixHOT4Lite    2.857186\n",
       "Y3S                2.571468\n",
       "TECNO-Y2           2.509157\n",
       "TECNO-W3           2.421009\n",
       "TECNO-N2S          2.188483\n",
       "HUAWEIY360-U31     2.060822\n",
       "InfinixHOT4        1.808538\n",
       "VFD100             1.769024\n",
       "VF685              1.551695\n",
       "INFINIX-X551       1.369322\n",
       "Name: Device Type, dtype: float64"
      ]
     },
     "execution_count": 66,
     "metadata": {},
     "output_type": "execute_result"
    }
   ],
   "source": [
    "(df['Device Type'].value_counts(normalize=True)*100).head(10)\n",
    "#useless - too many categories"
   ]
  },
  {
   "cell_type": "code",
   "execution_count": 67,
   "metadata": {},
   "outputs": [
    {
     "data": {
      "text/plain": [
       "0       15.655253\n",
       "1        1.329807\n",
       "2        0.518245\n",
       "3        0.243165\n",
       "3653     0.238605\n",
       "2557     0.209730\n",
       "7670     0.197571\n",
       "1826     0.189972\n",
       "4        0.174775\n",
       "1461     0.173255\n",
       "Name: National ID Age, dtype: float64"
      ]
     },
     "execution_count": 67,
     "metadata": {},
     "output_type": "execute_result"
    }
   ],
   "source": [
    "df['National ID Age']=(pd.to_datetime(df['Disbursement Date'], errors='coerce')-pd.to_datetime(df['National ID Issue Date'], errors='coerce')).dt.days\n",
    "#some errors in national id date format\n",
    "(df['National ID Age'].value_counts(normalize=True)*100).head(10)"
   ]
  },
  {
   "cell_type": "code",
   "execution_count": 68,
   "metadata": {},
   "outputs": [],
   "source": [
    "#bin national ID age into buckets\n",
    "df['National ID Age']=pd.cut(df['National ID Age'], [0, 1, 30, 90, 180, 365, 1095, np.inf], \n",
    "       labels=['New', '1 mth', '3 mths', '6 mths', '1 yr', '3 yrs', '3+ yrs'], include_lowest=True)"
   ]
  },
  {
   "cell_type": "code",
   "execution_count": 69,
   "metadata": {},
   "outputs": [
    {
     "name": "stdout",
     "output_type": "stream",
     "text": [
      "    Daily Income Daily Income 2  Annual Income\n",
      "26        2 to 9       10 to 19         3680.0\n",
      "51       Below 2         2 to 9          730.0\n",
      "134       2 to 9       10 to 19         3650.0\n",
      "136       2 to 9       10 to 19         3650.0\n",
      "168       2 to 9       10 to 19         3650.0\n",
      "174       2 to 9       10 to 19         3654.8\n",
      "176     10 to 19       20 to 49         7300.0\n",
      "212       2 to 9       10 to 19         3650.0\n",
      "222     10 to 19       20 to 49         7300.0\n",
      "228       2 to 9       10 to 19         3700.0\n"
     ]
    },
    {
     "data": {
      "text/plain": [
       "(2146, 3)"
      ]
     },
     "execution_count": 69,
     "metadata": {},
     "output_type": "execute_result"
    }
   ],
   "source": [
    "#bin daily income into buckets\n",
    "df['Daily Income 2']=pd.cut(df['Annual Income']/365, \n",
    "                            [0, 2, 10, 20, 50, np.inf],\n",
    "                            right=False,\n",
    "                            labels=['Below 2', '2 to 9', '10 to 19', '20 to 49', '50 or Above'],\n",
    "                            include_lowest=True                            \n",
    "                           )\n",
    "tmp=df.loc[df['Daily Income'] != df['Daily Income 2'], ['Daily Income', 'Daily Income 2', 'Annual Income']]\n",
    "print(tmp.head(10))\n",
    "tmp.shape\n",
    "#There are 2146 (3.3%) discrepancies in daily income bins, between given bins & my computed ones!\n",
    "#So I am gonna use my own generated bins for better accuracy"
   ]
  },
  {
   "cell_type": "code",
   "execution_count": 70,
   "metadata": {},
   "outputs": [],
   "source": [
    "#consider loan as categorical variable with 4 segments - 10, 20, 30, 40\n",
    "df['Loan Amount']=(df['Loan Amount']).astype(int)\n",
    "df.loc[df['Repayment Amount'].isnull(), 'Repayment Amount'] = 0\n",
    "df['Repayment Amount']=df['Repayment Amount']\n",
    "df['Profit']=df['Repayment Amount']-df['Loan Amount']"
   ]
  },
  {
   "cell_type": "code",
   "execution_count": 71,
   "metadata": {
    "scrolled": true
   },
   "outputs": [
    {
     "name": "stdout",
     "output_type": "stream",
     "text": [
      "mean        -0.127201\n",
      "median       1.500000\n",
      "sum      -8369.690000\n",
      "Name: Profit, dtype: float64 \n",
      "\n",
      "              Profit                  \n",
      "                mean median        sum\n",
      "Defaulter                             \n",
      "0           2.811562   2.42  153716.54\n",
      "1         -14.568239 -10.00 -162086.23\n"
     ]
    },
    {
     "data": {
      "image/png": "[encoded data removed]",
      "text/plain": [
       "<matplotlib.figure.Figure at 0xb972b70>"
      ]
     },
     "metadata": {},
     "output_type": "display_data"
    }
   ],
   "source": [
    "fig, axs = plt.subplots()\n",
    "axs.hist(df['Profit'], bins=10)\n",
    "print(df['Profit'].agg(['mean', 'median', 'sum']), '\\n')\n",
    "print(df[['Defaulter', 'Profit']].groupby(['Defaulter']).agg(['mean', 'median', 'sum']))"
   ]
  },
  {
   "cell_type": "markdown",
   "metadata": {},
   "source": [
    "Net realized profit is -$8,370"
   ]
  },
  {
   "cell_type": "code",
   "execution_count": 72,
   "metadata": {},
   "outputs": [],
   "source": [
    "#drop unwanted columns\n",
    "df=df.drop(['Interest Rate - Charged as Flat Rate (Doesn\\'t Accrue)',\n",
    "            'Loan Tenure',\n",
    "            'Disbursement Date',\n",
    "            'Due Date',\n",
    "            'Repayment Amount', \n",
    "            'Repayment Date', \n",
    "            'loan.loan_application_id',\n",
    "            'Daily Income',\n",
    "            'Annual Income',\n",
    "            'Gender',\n",
    "            'National ID Issue Date',\n",
    "            'Device Type',\n",
    "           ], axis=1)"
   ]
  },
  {
   "cell_type": "code",
   "execution_count": 73,
   "metadata": {},
   "outputs": [
    {
     "data": {
      "text/plain": [
       "Index(['Loan Amount', 'Times Applied', 'Employment', 'Highest Education',\n",
       "       'Is Employed', 'Outstanding', 'Loan Purpose', 'Loan Use Category',\n",
       "       'Acquisition Channel', 'Age', 'Phone Ownership', 'New Phone',\n",
       "       'Customer Owns Phone', 'Credit Score', 'Defaulter', 'National ID Age',\n",
       "       'Daily Income 2', 'Profit'],\n",
       "      dtype='object')"
      ]
     },
     "execution_count": 73,
     "metadata": {},
     "output_type": "execute_result"
    }
   ],
   "source": [
    "df.columns"
   ]
  },
  {
   "cell_type": "code",
   "execution_count": 74,
   "metadata": {},
   "outputs": [
    {
     "name": "stdout",
     "output_type": "stream",
     "text": [
      "<class 'pandas.core.frame.DataFrame'>\n",
      "Int64Index: 65799 entries, 0 to 66785\n",
      "Data columns (total 18 columns):\n",
      "Loan Amount            65799 non-null int32\n",
      "Times Applied          65799 non-null int64\n",
      "Employment             65799 non-null object\n",
      "Highest Education      65799 non-null object\n",
      "Is Employed            65799 non-null object\n",
      "Outstanding            65799 non-null object\n",
      "Loan Purpose           65799 non-null object\n",
      "Loan Use Category      65799 non-null object\n",
      "Acquisition Channel    65799 non-null object\n",
      "Age                    65799 non-null int64\n",
      "Phone Ownership        65799 non-null object\n",
      "New Phone              65799 non-null object\n",
      "Customer Owns Phone    65799 non-null object\n",
      "Credit Score           65799 non-null float64\n",
      "Defaulter              65799 non-null int64\n",
      "National ID Age        65799 non-null category\n",
      "Daily Income 2         65799 non-null category\n",
      "Profit                 65799 non-null float64\n",
      "dtypes: category(2), float64(2), int32(1), int64(3), object(10)\n",
      "memory usage: 7.9+ MB\n"
     ]
    }
   ],
   "source": [
    "df.info()"
   ]
  },
  {
   "cell_type": "code",
   "execution_count": 75,
   "metadata": {},
   "outputs": [
    {
     "data": {
      "text/plain": [
       "46"
      ]
     },
     "execution_count": 75,
     "metadata": {},
     "output_type": "execute_result"
    }
   ],
   "source": [
    "#select all non-numeric column names\n",
    "cat_vars=df.select_dtypes(exclude=[np.number]).columns\n",
    "#create dummy variables and discard original categorical variables for further modeling\n",
    "df2=df\n",
    "#df2=df[df['Loan Amount']==10]\n",
    "\n",
    "#df had its missing values removed, so its index got corrupted\n",
    "df2=df2.reset_index(drop=True)\n",
    "\n",
    "for var in cat_vars:\n",
    "    cat_list='var'+'_'+var\n",
    "    cat_list = pd.get_dummies(df2[var], prefix=var, drop_first = True)\n",
    "    df2=df2.join(cat_list)\n",
    "\n",
    "data_vars=df2.columns.values.tolist()\n",
    "to_keep=[i for i in data_vars if i not in cat_vars]\n",
    "df2=df2[to_keep]\n",
    "len(df2.columns)"
   ]
  },
  {
   "cell_type": "code",
   "execution_count": 76,
   "metadata": {},
   "outputs": [],
   "source": [
    "#split predictor and target columns\n",
    "y=['Defaulter']\n",
    "X=[i for i in df2.columns if i not in y]\n",
    "if 'Profit' in X: X.remove('Profit')\n",
    "#ignore 'Loan Amount' predictor\n",
    "if 'Loan Amount' in X: X.remove('Loan Amount')"
   ]
  },
  {
   "cell_type": "code",
   "execution_count": 77,
   "metadata": {},
   "outputs": [
    {
     "name": "stdout",
     "output_type": "stream",
     "text": [
      "(11126, 46)\n"
     ]
    }
   ],
   "source": [
    "#balanced sampling\n",
    "#check minority class count before sampling\n",
    "print(df2[(df2['Defaulter'] == 1)].shape)\n",
    "#All loan amounts\n",
    "df3=df2[df2['Defaulter'] == 1].sample(11000)\n",
    "#loan amount = 10\n",
    "#df3=df2[df2['Defaulter'] == 1].sample(7000)\n",
    "#loan amount = 20\n",
    "#df3=df2[df2['Defaulter'] == 1].sample(2700)\n",
    "#loan amount = 30\n",
    "#df3=df2[df2['Defaulter'] == 1].sample(1100)\n",
    "#loan amount = 40\n",
    "#df3=df2[df2['Defaulter'] == 1].sample(200)\n",
    "#All loan amounts\n",
    "df3=df3.append(df2[df2['Defaulter'] == 0].sample(11000))\n",
    "#loan amount = 10\n",
    "#df3=df3.append(df2[df2['Defaulter'] == 0].sample(7000))\n",
    "#loan amount = 20\n",
    "#df3=df3.append(df2[df2['Defaulter'] == 0].sample(2700))\n",
    "#loan amount = 30\n",
    "#df3=df3.append(df2[df2['Defaulter'] == 0].sample(1100))\n",
    "#loan amount = 40\n",
    "#df3=df3.append(df2[df2['Defaulter'] == 0].sample(200))"
   ]
  },
  {
   "cell_type": "code",
   "execution_count": 78,
   "metadata": {},
   "outputs": [
    {
     "name": "stderr",
     "output_type": "stream",
     "text": [
      "c:\\program files (x86)\\python\\lib\\site-packages\\sklearn\\utils\\validation.py:578: DataConversionWarning: A column-vector y was passed when a 1d array was expected. Please change the shape of y to (n_samples, ), for example using ravel().\n",
      "  y = column_or_1d(y, warn=True)\n"
     ]
    },
    {
     "name": "stdout",
     "output_type": "stream",
     "text": [
      "[ True  True  True  True  True  True  True  True  True  True  True  True\n",
      "  True  True  True  True  True  True  True  True  True  True  True  True\n",
      "  True  True  True  True  True  True  True  True  True  True  True  True\n",
      "  True  True  True  True  True  True  True]\n",
      "[1 1 1 1 1 1 1 1 1 1 1 1 1 1 1 1 1 1 1 1 1 1 1 1 1 1 1 1 1 1 1 1 1 1 1 1 1\n",
      " 1 1 1 1 1 1]\n"
     ]
    }
   ],
   "source": [
    "#Recursive Feature Elimination\n",
    "logreg = LogisticRegression()\n",
    "#large beta favors higher sensitivity/recall (lesser false negatives) over precision \n",
    "ftwo_scorer = make_scorer(fbeta_score, beta = 10000)\n",
    "rfe = RFECV(logreg, cv = 3, scoring = ftwo_scorer, n_jobs = 2)\n",
    "rfe = rfe.fit(df3[X], df3[y])\n",
    "print(rfe.support_)\n",
    "print(rfe.ranking_)"
   ]
  },
  {
   "cell_type": "code",
   "execution_count": 79,
   "metadata": {},
   "outputs": [
    {
     "data": {
      "text/plain": [
       "43"
      ]
     },
     "execution_count": 79,
     "metadata": {},
     "output_type": "execute_result"
    }
   ],
   "source": [
    "#filter out weak predictors using RFE results \n",
    "X=[x for x, i in zip(X, rfe.support_) if i==True]\n",
    "len(X)"
   ]
  },
  {
   "cell_type": "code",
   "execution_count": 80,
   "metadata": {},
   "outputs": [
    {
     "data": {
      "text/html": [
       "<div>\n",
       "<style>\n",
       "    .dataframe thead tr:only-child th {\n",
       "        text-align: right;\n",
       "    }\n",
       "\n",
       "    .dataframe thead th {\n",
       "        text-align: left;\n",
       "    }\n",
       "\n",
       "    .dataframe tbody tr th {\n",
       "        vertical-align: top;\n",
       "    }\n",
       "</style>\n",
       "<table border=\"1\" class=\"dataframe\">\n",
       "  <thead>\n",
       "    <tr style=\"text-align: right;\">\n",
       "      <th></th>\n",
       "      <th>VIF Factor</th>\n",
       "      <th>features</th>\n",
       "    </tr>\n",
       "  </thead>\n",
       "  <tbody>\n",
       "    <tr>\n",
       "      <th>4</th>\n",
       "      <td>23.074333</td>\n",
       "      <td>Employment_student</td>\n",
       "    </tr>\n",
       "    <tr>\n",
       "      <th>10</th>\n",
       "      <td>26.226547</td>\n",
       "      <td>Is Employed_Yes</td>\n",
       "    </tr>\n",
       "    <tr>\n",
       "      <th>12</th>\n",
       "      <td>217.776454</td>\n",
       "      <td>Loan Purpose_personal</td>\n",
       "    </tr>\n",
       "    <tr>\n",
       "      <th>14</th>\n",
       "      <td>225.618556</td>\n",
       "      <td>Loan Use Category_grow_business</td>\n",
       "    </tr>\n",
       "    <tr>\n",
       "      <th>18</th>\n",
       "      <td>15.613394</td>\n",
       "      <td>Loan Use Category_other_business_use</td>\n",
       "    </tr>\n",
       "    <tr>\n",
       "      <th>19</th>\n",
       "      <td>43.363567</td>\n",
       "      <td>Loan Use Category_start_business</td>\n",
       "    </tr>\n",
       "    <tr>\n",
       "      <th>21</th>\n",
       "      <td>7.626105</td>\n",
       "      <td>Loan Use Category_travel_business</td>\n",
       "    </tr>\n",
       "    <tr>\n",
       "      <th>39</th>\n",
       "      <td>5.119088</td>\n",
       "      <td>Daily Income 2_2 to 9</td>\n",
       "    </tr>\n",
       "    <tr>\n",
       "      <th>40</th>\n",
       "      <td>4.111425</td>\n",
       "      <td>Daily Income 2_10 to 19</td>\n",
       "    </tr>\n",
       "  </tbody>\n",
       "</table>\n",
       "</div>"
      ],
      "text/plain": [
       "    VIF Factor                              features\n",
       "4    23.074333                    Employment_student\n",
       "10   26.226547                       Is Employed_Yes\n",
       "12  217.776454                 Loan Purpose_personal\n",
       "14  225.618556       Loan Use Category_grow_business\n",
       "18   15.613394  Loan Use Category_other_business_use\n",
       "19   43.363567      Loan Use Category_start_business\n",
       "21    7.626105     Loan Use Category_travel_business\n",
       "39    5.119088                 Daily Income 2_2 to 9\n",
       "40    4.111425               Daily Income 2_10 to 19"
      ]
     },
     "execution_count": 80,
     "metadata": {},
     "output_type": "execute_result"
    }
   ],
   "source": [
    "#check highly correlated predictors\n",
    "vif = pd.DataFrame()\n",
    "vif[\"VIF Factor\"] = [variance_inflation_factor(df3[X].values, i) for i in range(df3[X].shape[1])]\n",
    "vif[\"features\"] = df3[X].columns\n",
    "vif[vif['VIF Factor'] >= 4]"
   ]
  },
  {
   "cell_type": "code",
   "execution_count": 81,
   "metadata": {},
   "outputs": [],
   "source": [
    "#drop major & strongly correlated predictors\n",
    "if 'Employment_student' in X: X.remove('Employment_student')"
   ]
  },
  {
   "cell_type": "code",
   "execution_count": 82,
   "metadata": {},
   "outputs": [
    {
     "data": {
      "text/plain": [
       "0    0.834173\n",
       "1    0.165827\n",
       "Name: Defaulter, dtype: float64"
      ]
     },
     "execution_count": 82,
     "metadata": {},
     "output_type": "execute_result"
    }
   ],
   "source": [
    "#split into training and testing data for logistic regression modeling\n",
    "X_train, X_test, y_train, y_test = train_test_split(df3[X], df3[y], test_size=0.3, random_state=0)\n",
    "\n",
    "#construct imbalanced test set\n",
    "y_test2=y_test[y_test['Defaulter']==1]\n",
    "X_test2=X_test[y_test['Defaulter']==1]\n",
    "\n",
    "non_def_count=y_test.shape[0]-y_test2.shape[0]\n",
    "#fetch rows in df2 but not df3 - set intersection\n",
    "test2_tmp=df2.iloc[df2.index.difference(df3.index)]\n",
    "#non-def are roughly 5x more than def\n",
    "test2_non_def=test2_tmp[test2_tmp['Defaulter']==0].sample(non_def_count*4)\n",
    "\n",
    "y_test2=y_test2.append(test2_non_def[y])\n",
    "y_test2=y_test2.append(y_test[y_test['Defaulter']==0])\n",
    "X_test2=X_test2.append(test2_non_def[X])\n",
    "X_test2=X_test2.append(X_test[y_test['Defaulter']==0])\n",
    "y_test2['Defaulter'].value_counts(normalize=True)\n",
    "#roughly 83% non-defaulters and 17% defaulters, similar to real data"
   ]
  },
  {
   "cell_type": "code",
   "execution_count": 83,
   "metadata": {},
   "outputs": [
    {
     "name": "stderr",
     "output_type": "stream",
     "text": [
      "c:\\program files (x86)\\python\\lib\\site-packages\\sklearn\\utils\\validation.py:578: DataConversionWarning: A column-vector y was passed when a 1d array was expected. Please change the shape of y to (n_samples, ), for example using ravel().\n",
      "  y = column_or_1d(y, warn=True)\n"
     ]
    },
    {
     "name": "stdout",
     "output_type": "stream",
     "text": [
      "Key factors influencing loan default\n"
     ]
    },
    {
     "data": {
      "text/html": [
       "<div>\n",
       "<style>\n",
       "    .dataframe thead tr:only-child th {\n",
       "        text-align: right;\n",
       "    }\n",
       "\n",
       "    .dataframe thead th {\n",
       "        text-align: left;\n",
       "    }\n",
       "\n",
       "    .dataframe tbody tr th {\n",
       "        vertical-align: top;\n",
       "    }\n",
       "</style>\n",
       "<table border=\"1\" class=\"dataframe\">\n",
       "  <thead>\n",
       "    <tr style=\"text-align: right;\">\n",
       "      <th></th>\n",
       "      <th>Factor</th>\n",
       "      <th>Odds Ratio</th>\n",
       "    </tr>\n",
       "  </thead>\n",
       "  <tbody>\n",
       "    <tr>\n",
       "      <th>20</th>\n",
       "      <td>Loan Use Category_travel_business</td>\n",
       "      <td>104.14</td>\n",
       "    </tr>\n",
       "    <tr>\n",
       "      <th>18</th>\n",
       "      <td>Loan Use Category_start_business</td>\n",
       "      <td>90.24</td>\n",
       "    </tr>\n",
       "    <tr>\n",
       "      <th>17</th>\n",
       "      <td>Loan Use Category_other_business_use</td>\n",
       "      <td>86.12</td>\n",
       "    </tr>\n",
       "    <tr>\n",
       "      <th>13</th>\n",
       "      <td>Loan Use Category_grow_business</td>\n",
       "      <td>78.68</td>\n",
       "    </tr>\n",
       "    <tr>\n",
       "      <th>11</th>\n",
       "      <td>Loan Purpose_personal</td>\n",
       "      <td>75.65</td>\n",
       "    </tr>\n",
       "    <tr>\n",
       "      <th>12</th>\n",
       "      <td>Loan Use Category_emergency</td>\n",
       "      <td>2.18</td>\n",
       "    </tr>\n",
       "    <tr>\n",
       "      <th>19</th>\n",
       "      <td>Loan Use Category_travel</td>\n",
       "      <td>1.36</td>\n",
       "    </tr>\n",
       "    <tr>\n",
       "      <th>14</th>\n",
       "      <td>Loan Use Category_medical</td>\n",
       "      <td>1.36</td>\n",
       "    </tr>\n",
       "    <tr>\n",
       "      <th>3</th>\n",
       "      <td>Employment_self_employed</td>\n",
       "      <td>1.34</td>\n",
       "    </tr>\n",
       "    <tr>\n",
       "      <th>15</th>\n",
       "      <td>Loan Use Category_ocassion</td>\n",
       "      <td>1.30</td>\n",
       "    </tr>\n",
       "    <tr>\n",
       "      <th>22</th>\n",
       "      <td>Acquisition Channel_Organic</td>\n",
       "      <td>1.20</td>\n",
       "    </tr>\n",
       "    <tr>\n",
       "      <th>33</th>\n",
       "      <td>National ID Age_3 mths</td>\n",
       "      <td>0.80</td>\n",
       "    </tr>\n",
       "    <tr>\n",
       "      <th>27</th>\n",
       "      <td>Phone Ownership_3y</td>\n",
       "      <td>0.80</td>\n",
       "    </tr>\n",
       "    <tr>\n",
       "      <th>32</th>\n",
       "      <td>National ID Age_1 mth</td>\n",
       "      <td>0.79</td>\n",
       "    </tr>\n",
       "    <tr>\n",
       "      <th>31</th>\n",
       "      <td>Customer Owns Phone_Yes</td>\n",
       "      <td>0.78</td>\n",
       "    </tr>\n",
       "    <tr>\n",
       "      <th>29</th>\n",
       "      <td>Phone Ownership_over3y</td>\n",
       "      <td>0.77</td>\n",
       "    </tr>\n",
       "    <tr>\n",
       "      <th>10</th>\n",
       "      <td>Outstanding_Yes</td>\n",
       "      <td>0.76</td>\n",
       "    </tr>\n",
       "    <tr>\n",
       "      <th>9</th>\n",
       "      <td>Is Employed_Yes</td>\n",
       "      <td>0.70</td>\n",
       "    </tr>\n",
       "    <tr>\n",
       "      <th>5</th>\n",
       "      <td>Highest Education_masters_phd</td>\n",
       "      <td>0.43</td>\n",
       "    </tr>\n",
       "    <tr>\n",
       "      <th>2</th>\n",
       "      <td>Credit Score</td>\n",
       "      <td>0.02</td>\n",
       "    </tr>\n",
       "  </tbody>\n",
       "</table>\n",
       "</div>"
      ],
      "text/plain": [
       "                                  Factor  Odds Ratio\n",
       "20     Loan Use Category_travel_business      104.14\n",
       "18      Loan Use Category_start_business       90.24\n",
       "17  Loan Use Category_other_business_use       86.12\n",
       "13       Loan Use Category_grow_business       78.68\n",
       "11                 Loan Purpose_personal       75.65\n",
       "12           Loan Use Category_emergency        2.18\n",
       "19              Loan Use Category_travel        1.36\n",
       "14             Loan Use Category_medical        1.36\n",
       "3               Employment_self_employed        1.34\n",
       "15            Loan Use Category_ocassion        1.30\n",
       "22           Acquisition Channel_Organic        1.20\n",
       "33                National ID Age_3 mths        0.80\n",
       "27                    Phone Ownership_3y        0.80\n",
       "32                 National ID Age_1 mth        0.79\n",
       "31               Customer Owns Phone_Yes        0.78\n",
       "29                Phone Ownership_over3y        0.77\n",
       "10                       Outstanding_Yes        0.76\n",
       "9                        Is Employed_Yes        0.70\n",
       "5          Highest Education_masters_phd        0.43\n",
       "2                           Credit Score        0.02"
      ]
     },
     "execution_count": 83,
     "metadata": {},
     "output_type": "execute_result"
    }
   ],
   "source": [
    "#disable scikit regularization\n",
    "logreg = LogisticRegression(fit_intercept = False, C = 1e9)\n",
    "weights = np.ones(len(y_train))\n",
    "#setting higher weight on default cases results in more profit but lesser customers\n",
    "weights[(y_train == 1).values[:,0]] = 1.3\n",
    "logreg.fit(X_train, y_train, sample_weight = weights)\n",
    "odds = np.exp(logreg.coef_).round(2)\n",
    "odds_summary = np.vstack((np.asarray(X), odds.transpose()[:,0])).transpose()\n",
    "odds_summary = pd.DataFrame(odds_summary, columns=['Factor', 'Odds Ratio'])\n",
    "odds_summary['Odds Ratio'] = odds_summary['Odds Ratio'].astype(float).round(2)\n",
    "odds_summary = odds_summary.sort_values(['Odds Ratio'], ascending = False)\n",
    "print('Key factors influencing loan default')\n",
    "odds_summary[(odds_summary['Odds Ratio'] >= 1.2) | (odds_summary['Odds Ratio'] <= 0.8)]"
   ]
  },
  {
   "cell_type": "code",
   "execution_count": 84,
   "metadata": {},
   "outputs": [
    {
     "name": "stdout",
     "output_type": "stream",
     "text": [
      "Record count: 19840\n",
      "Initial profit: -403.63\n",
      "Final profit: 11445.77\n",
      "Change: 11849.4\n",
      "New Customer Loss (%): 62.15 \n",
      "\n",
      "       Defaulter  Profit  Prediction  Predicted Profit\n",
      "41961          1   -20.0           1              -0.0\n",
      "2351           1   -10.0           1              -0.0\n",
      "38456          1   -20.0           0             -20.0\n",
      "6910           1   -10.0           0             -10.0\n",
      "41346          1   -10.0           1              -0.0\n",
      "49050          1   -10.0           1              -0.0\n",
      "44603          1   -10.0           1              -0.0\n",
      "38317          1   -10.0           1              -0.0\n",
      "34689          1   -10.0           1              -0.0\n",
      "62587          1   -10.0           1              -0.0 \n",
      "\n",
      "       Defaulter  Profit  Prediction  Predicted Profit\n",
      "31487          0     3.0           1               0.0\n",
      "47241          0     1.5           1               0.0\n",
      "45564          0     1.5           1               0.0\n",
      "61413          0     1.5           1               0.0\n",
      "11472          0     1.5           1               0.0\n",
      "63309          0     1.5           1               0.0\n",
      "5668           0     1.5           1               0.0\n",
      "46395          0     3.0           0               3.0\n",
      "34489          0     1.5           1               0.0\n",
      "18276          0     6.0           0               6.0\n"
     ]
    }
   ],
   "source": [
    "y_pred = logreg.predict(X_test2)\n",
    "#model's net profit-customer base tradeoff\n",
    "profit_summ=pd.merge(y_test2, df2[['Profit']], left_index=True, right_index=True)\n",
    "profit_summ['Prediction']=y_pred\n",
    "p1 = profit_summ['Profit'].sum()\n",
    "profit_summ['Predicted Profit']=(1-profit_summ['Prediction'])*profit_summ['Profit']\n",
    "p2 = profit_summ['Predicted Profit'].sum()\n",
    "print('Record count:', profit_summ.shape[0])\n",
    "print('Initial profit:', p1)\n",
    "print('Final profit:', p2)\n",
    "print('Change:', p2-p1)\n",
    "orig_cust=profit_summ.shape[0]\n",
    "new_cust=(profit_summ['Prediction'] == 0).sum()\n",
    "diff=orig_cust-new_cust\n",
    "cust_loss=round((diff/orig_cust)*100, 2)\n",
    "print('New Customer Loss (%):', cust_loss, '\\n')\n",
    "print(profit_summ.head(10), '\\n') \n",
    "print(profit_summ.tail(10))"
   ]
  },
  {
   "cell_type": "markdown",
   "metadata": {},
   "source": [
    "Overall, Net Loss turns into Net Profit with 60% reduction of new customers\n",
    "\n",
    "For $40 loan, model unstable as data is insufficient (400 rows)"
   ]
  },
  {
   "cell_type": "code",
   "execution_count": null,
   "metadata": {},
   "outputs": [],
   "source": []
  }
 ],
 "metadata": {
  "kernelspec": {
   "display_name": "Python 3",
   "language": "python",
   "name": "python3"
  },
  "language_info": {
   "codemirror_mode": {
    "name": "ipython",
    "version": 3
   },
   "file_extension": ".py",
   "mimetype": "text/x-python",
   "name": "python",
   "nbconvert_exporter": "python",
   "pygments_lexer": "ipython3",
   "version": "3.6.1"
  }
 },
 "nbformat": 4,
 "nbformat_minor": 2
}
